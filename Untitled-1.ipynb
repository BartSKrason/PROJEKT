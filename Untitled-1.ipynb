{
 "cells": [
  {
   "cell_type": "code",
   "execution_count": 1,
   "metadata": {},
   "outputs": [
    {
     "name": "stdout",
     "output_type": "stream",
     "text": [
      "Počet souhlásek: 35 | Počet samohlásek: 25\n"
     ]
    }
   ],
   "source": [
    "# Zadaná proměnná\n",
    "veta = 'Zvuk řeči je produkován poměrně otevřenou konfigurací vokálního traktu'\n",
    "\n",
    "# Samohlásky & souhlásky\n",
    "samohlasky = 'aeiouáéíóú'\n",
    "souhlasky = 'bcčdďfghjklmnňprřsštťvzžcdž'\n",
    "\n",
    "# Slovník s evidencí výskytu jednotlivých typů písmen\n",
    "vysledek = {'souhlasky': 0, 'samohlasky': 0}\n",
    "\n",
    "# Iterace přes zadanou proměnnou 'veta'\n",
    "for pismeno in veta:\n",
    "    # .. pokud znak není písmeno\n",
    "    if not pismeno.isalpha():\n",
    "        continue\n",
    "\n",
    "    # .. pokud je převedený znak mezi hodnotami samohlásek\n",
    "    elif pismeno.lower() in samohlasky:\n",
    "        vysledek['samohlasky'] = vysledek['samohlasky'] + 1\n",
    "    # .. pokud je převedený znak mezi hodnotami souhlásek\n",
    "    elif pismeno.lower() in souhlasky:\n",
    "        vysledek['souhlasky'] = vysledek['souhlasky'] + 1\n",
    "\n",
    "# Vypiš závěrečný výstup v podobě celkového počtu samohlásek a souhlásek\n",
    "print('Počet souhlásek:', vysledek['souhlasky'], '| Počet samohlásek:', vysledek['samohlasky'])"
   ]
  },
  {
   "cell_type": "code",
   "execution_count": 2,
   "metadata": {},
   "outputs": [
    {
     "name": "stdout",
     "output_type": "stream",
     "text": [
      "<module 'random' from 'c:\\\\Program Files\\\\Python313\\\\Lib\\\\random.py'>\n"
     ]
    }
   ],
   "source": [
    "import random\n",
    "\n",
    "print(random)"
   ]
  },
  {
   "cell_type": "code",
   "execution_count": 3,
   "metadata": {},
   "outputs": [],
   "source": [
    "import sys"
   ]
  },
  {
   "cell_type": "code",
   "execution_count": 4,
   "metadata": {},
   "outputs": [
    {
     "name": "stdout",
     "output_type": "stream",
     "text": [
      "win32\n"
     ]
    }
   ],
   "source": [
    "print(sys.platform)"
   ]
  },
  {
   "cell_type": "code",
   "execution_count": 5,
   "metadata": {},
   "outputs": [
    {
     "name": "stdout",
     "output_type": "stream",
     "text": [
      "Spoustim cmd pro Win\n"
     ]
    }
   ],
   "source": [
    "if sys.platform == \"win32\":\n",
    "    print(\"Spoustim cmd pro Win\")\n",
    "else:\n",
    "    print(\"Spustim cmd pro unix-based systemy\")"
   ]
  },
  {
   "cell_type": "code",
   "execution_count": 8,
   "metadata": {},
   "outputs": [
    {
     "name": "stdout",
     "output_type": "stream",
     "text": [
      "[3.141592653589793, 12.566370614359172, 28.274333882308138, 50.26548245743669, 78.53981633974483]\n"
     ]
    }
   ],
   "source": [
    "import math\n",
    "polomery = (1,2,3,4,5)\n",
    "plochy = list()\n",
    "\n",
    "for polomer in polomery:\n",
    "    plochy.append(math.pow(polomer, 2) * math.pi)\n",
    "else:\n",
    "    print(plochy)"
   ]
  },
  {
   "cell_type": "code",
   "execution_count": 13,
   "metadata": {},
   "outputs": [
    {
     "name": "stdout",
     "output_type": "stream",
     "text": [
      "[3.141592653589793, 12.566370614359172, 28.274333882308138, 50.26548245743669, 78.53981633974483]\n"
     ]
    }
   ],
   "source": [
    "import math as m\n",
    "polomery = (1,2,3,4,5)\n",
    "\n",
    "plochy = [m.pi * r ** 2 for r in polomery]\n",
    "print(plochy)"
   ]
  },
  {
   "cell_type": "code",
   "execution_count": 14,
   "metadata": {},
   "outputs": [
    {
     "name": "stdout",
     "output_type": "stream",
     "text": [
      "['In', 'Out', '_', '__', '___', '__builtin__', '__builtins__', '__doc__', '__loader__', '__name__', '__package__', '__spec__', '__vsc_ipynb_file__', '_dh', '_i', '_i1', '_i10', '_i11', '_i12', '_i13', '_i14', '_i2', '_i3', '_i4', '_i5', '_i6', '_i7', '_i8', '_i9', '_ih', '_ii', '_iii', '_oh', 'exit', 'get_ipython', 'm', 'math', 'open', 'pismeno', 'plochy', 'polomer', 'polomery', 'quit', 'random', 'samohlasky', 'souhlasky', 'sys', 'veta', 'vysledek']\n"
     ]
    }
   ],
   "source": [
    "print(dir())"
   ]
  },
  {
   "cell_type": "code",
   "execution_count": 20,
   "metadata": {},
   "outputs": [
    {
     "name": "stdout",
     "output_type": "stream",
     "text": [
      "Prumer nahodnych cisel je: 480.7\n"
     ]
    }
   ],
   "source": [
    "from random import choices\n",
    "from statistics import mean\n",
    "\n",
    "nahodna_cisla = choices(range(0, 1001), k=10)\n",
    "prumer = mean(nahodna_cisla)\n",
    "print(\"Prumer nahodnych cisel je:\", prumer)\n",
    "\n",
    "\n",
    "\n"
   ]
  },
  {
   "cell_type": "code",
   "execution_count": 22,
   "metadata": {},
   "outputs": [
    {
     "name": "stdout",
     "output_type": "stream",
     "text": [
      "Průměr náhodných čísel je:401.5\n"
     ]
    }
   ],
   "source": [
    "from random import choices\n",
    "from statistics import mean\n",
    "\n",
    "nahodna_cisla = choices(range(0, 1001), k=10)\n",
    "prumer = mean(nahodna_cisla)\n",
    "print(\"Průměr náhodných čísel je:\", prumer, sep='')"
   ]
  }
 ],
 "metadata": {
  "kernelspec": {
   "display_name": "Python 3",
   "language": "python",
   "name": "python3"
  },
  "language_info": {
   "codemirror_mode": {
    "name": "ipython",
    "version": 3
   },
   "file_extension": ".py",
   "mimetype": "text/x-python",
   "name": "python",
   "nbconvert_exporter": "python",
   "pygments_lexer": "ipython3",
   "version": "3.13.2"
  }
 },
 "nbformat": 4,
 "nbformat_minor": 2
}
